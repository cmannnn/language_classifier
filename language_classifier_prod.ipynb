{
  "nbformat": 4,
  "nbformat_minor": 0,
  "metadata": {
    "colab": {
      "name": "language_classifier_prod.ipynb",
      "provenance": [],
      "collapsed_sections": [],
      "authorship_tag": "ABX9TyM0sJUJgFC5VpScoi52V51r",
      "include_colab_link": true
    },
    "kernelspec": {
      "name": "python3",
      "display_name": "Python 3"
    },
    "language_info": {
      "name": "python"
    },
    "accelerator": "GPU",
    "widgets": {
      "application/vnd.jupyter.widget-state+json": {
        "2f71c97468034ba4aa9640289cff54e0": {
          "model_module": "@jupyter-widgets/controls",
          "model_name": "VBoxModel",
          "state": {
            "_view_name": "VBoxView",
            "_dom_classes": [],
            "_model_name": "VBoxModel",
            "_view_module": "@jupyter-widgets/controls",
            "_model_module_version": "1.5.0",
            "_view_count": null,
            "_view_module_version": "1.5.0",
            "box_style": "",
            "layout": "IPY_MODEL_567459636d9f4996a26289cec7b26766",
            "_model_module": "@jupyter-widgets/controls",
            "children": [
              "IPY_MODEL_316de4fd4aaa42b5a8dbdfd52c5355a6",
              "IPY_MODEL_9298573f0cbf46c78d0050b35c1cc23e",
              "IPY_MODEL_67b9beee5206414fab71d6b6b3c5536c",
              "IPY_MODEL_40670b980558439494aa169bce2ca73e",
              "IPY_MODEL_7517a51c761a454eb0152f28e0de1bb9"
            ]
          }
        },
        "567459636d9f4996a26289cec7b26766": {
          "model_module": "@jupyter-widgets/base",
          "model_name": "LayoutModel",
          "state": {
            "_view_name": "LayoutView",
            "grid_template_rows": null,
            "right": null,
            "justify_content": null,
            "_view_module": "@jupyter-widgets/base",
            "overflow": null,
            "_model_module_version": "1.2.0",
            "_view_count": null,
            "flex_flow": null,
            "width": null,
            "min_width": null,
            "border": null,
            "align_items": null,
            "bottom": null,
            "_model_module": "@jupyter-widgets/base",
            "top": null,
            "grid_column": null,
            "overflow_y": null,
            "overflow_x": null,
            "grid_auto_flow": null,
            "grid_area": null,
            "grid_template_columns": null,
            "flex": null,
            "_model_name": "LayoutModel",
            "justify_items": null,
            "grid_row": null,
            "max_height": null,
            "align_content": null,
            "visibility": null,
            "align_self": null,
            "height": null,
            "min_height": null,
            "padding": null,
            "grid_auto_rows": null,
            "grid_gap": null,
            "max_width": null,
            "order": null,
            "_view_module_version": "1.2.0",
            "grid_template_areas": null,
            "object_position": null,
            "object_fit": null,
            "grid_auto_columns": null,
            "margin": null,
            "display": null,
            "left": null
          }
        },
        "316de4fd4aaa42b5a8dbdfd52c5355a6": {
          "model_module": "@jupyter-widgets/controls",
          "model_name": "LabelModel",
          "state": {
            "_view_name": "LabelView",
            "style": "IPY_MODEL_8370916376c94d518ea95b08e8ff991a",
            "_dom_classes": [],
            "description": "",
            "_model_name": "LabelModel",
            "placeholder": "​",
            "_view_module": "@jupyter-widgets/controls",
            "_model_module_version": "1.5.0",
            "value": "Select your picture!",
            "_view_count": null,
            "_view_module_version": "1.5.0",
            "description_tooltip": null,
            "_model_module": "@jupyter-widgets/controls",
            "layout": "IPY_MODEL_62afb2b40493451db9831f7cdfc4d1d7"
          }
        },
        "9298573f0cbf46c78d0050b35c1cc23e": {
          "model_module": "@jupyter-widgets/controls",
          "model_name": "FileUploadModel",
          "state": {
            "_view_name": "FileUploadView",
            "_counter": 2,
            "style": "IPY_MODEL_e87e82364c5b41898ee0dbef116bdc7f",
            "_dom_classes": [],
            "description": "Upload",
            "multiple": false,
            "_model_name": "FileUploadModel",
            "data": [
              null
            ],
            "button_style": "",
            "_view_module": "@jupyter-widgets/controls",
            "_model_module_version": "1.5.0",
            "accept": "",
            "_view_count": null,
            "disabled": false,
            "_view_module_version": "1.5.0",
            "error": "",
            "description_tooltip": null,
            "metadata": [
              {
                "name": "arabic.jpeg",
                "type": "image/jpeg",
                "size": 28641,
                "lastModified": 1626832704492
              }
            ],
            "_model_module": "@jupyter-widgets/controls",
            "layout": "IPY_MODEL_393164dbf3604bee9d4ca5935fb1875a",
            "icon": "upload"
          }
        },
        "67b9beee5206414fab71d6b6b3c5536c": {
          "model_module": "@jupyter-widgets/controls",
          "model_name": "ButtonModel",
          "state": {
            "_view_name": "ButtonView",
            "style": "IPY_MODEL_5fae55a0e16f4c2ea4e96b65ca0b9580",
            "_dom_classes": [],
            "description": "Classify",
            "_model_name": "ButtonModel",
            "button_style": "",
            "_view_module": "@jupyter-widgets/controls",
            "_model_module_version": "1.5.0",
            "tooltip": "",
            "_view_count": null,
            "disabled": false,
            "_view_module_version": "1.5.0",
            "layout": "IPY_MODEL_27dde245aabe4201817b8ac75b79f554",
            "_model_module": "@jupyter-widgets/controls",
            "icon": ""
          }
        },
        "40670b980558439494aa169bce2ca73e": {
          "model_module": "@jupyter-widgets/output",
          "model_name": "OutputModel",
          "state": {
            "_view_name": "OutputView",
            "msg_id": "",
            "_dom_classes": [],
            "_model_name": "OutputModel",
            "outputs": [
              {
                "output_type": "display_data",
                "metadata": {
                  "tags": []
                },
                "image/png": "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\n",
                "text/plain": "<PIL.Image.Image image mode=RGB size=128x57 at 0x7F473C43C550>"
              }
            ],
            "_view_module": "@jupyter-widgets/output",
            "_model_module_version": "1.0.0",
            "_view_count": null,
            "_view_module_version": "1.0.0",
            "layout": "IPY_MODEL_9447549c5aac4cae88c0a112396bd3cd",
            "_model_module": "@jupyter-widgets/output"
          }
        },
        "7517a51c761a454eb0152f28e0de1bb9": {
          "model_module": "@jupyter-widgets/controls",
          "model_name": "LabelModel",
          "state": {
            "_view_name": "LabelView",
            "style": "IPY_MODEL_ee2c594a08844d3baa4e9529e1688042",
            "_dom_classes": [],
            "description": "",
            "_model_name": "LabelModel",
            "placeholder": "​",
            "_view_module": "@jupyter-widgets/controls",
            "_model_module_version": "1.5.0",
            "value": "Prediction: chinese; Probability: 0.9881",
            "_view_count": null,
            "_view_module_version": "1.5.0",
            "description_tooltip": null,
            "_model_module": "@jupyter-widgets/controls",
            "layout": "IPY_MODEL_96765ab68c1e46cfa7ee5c1149eecc04"
          }
        },
        "8370916376c94d518ea95b08e8ff991a": {
          "model_module": "@jupyter-widgets/controls",
          "model_name": "DescriptionStyleModel",
          "state": {
            "_view_name": "StyleView",
            "_model_name": "DescriptionStyleModel",
            "description_width": "",
            "_view_module": "@jupyter-widgets/base",
            "_model_module_version": "1.5.0",
            "_view_count": null,
            "_view_module_version": "1.2.0",
            "_model_module": "@jupyter-widgets/controls"
          }
        },
        "62afb2b40493451db9831f7cdfc4d1d7": {
          "model_module": "@jupyter-widgets/base",
          "model_name": "LayoutModel",
          "state": {
            "_view_name": "LayoutView",
            "grid_template_rows": null,
            "right": null,
            "justify_content": null,
            "_view_module": "@jupyter-widgets/base",
            "overflow": null,
            "_model_module_version": "1.2.0",
            "_view_count": null,
            "flex_flow": null,
            "width": null,
            "min_width": null,
            "border": null,
            "align_items": null,
            "bottom": null,
            "_model_module": "@jupyter-widgets/base",
            "top": null,
            "grid_column": null,
            "overflow_y": null,
            "overflow_x": null,
            "grid_auto_flow": null,
            "grid_area": null,
            "grid_template_columns": null,
            "flex": null,
            "_model_name": "LayoutModel",
            "justify_items": null,
            "grid_row": null,
            "max_height": null,
            "align_content": null,
            "visibility": null,
            "align_self": null,
            "height": null,
            "min_height": null,
            "padding": null,
            "grid_auto_rows": null,
            "grid_gap": null,
            "max_width": null,
            "order": null,
            "_view_module_version": "1.2.0",
            "grid_template_areas": null,
            "object_position": null,
            "object_fit": null,
            "grid_auto_columns": null,
            "margin": null,
            "display": null,
            "left": null
          }
        },
        "e87e82364c5b41898ee0dbef116bdc7f": {
          "model_module": "@jupyter-widgets/controls",
          "model_name": "ButtonStyleModel",
          "state": {
            "_view_name": "StyleView",
            "_model_name": "ButtonStyleModel",
            "_view_module": "@jupyter-widgets/base",
            "_model_module_version": "1.5.0",
            "_view_count": null,
            "button_color": null,
            "font_weight": "",
            "_view_module_version": "1.2.0",
            "_model_module": "@jupyter-widgets/controls"
          }
        },
        "393164dbf3604bee9d4ca5935fb1875a": {
          "model_module": "@jupyter-widgets/base",
          "model_name": "LayoutModel",
          "state": {
            "_view_name": "LayoutView",
            "grid_template_rows": null,
            "right": null,
            "justify_content": null,
            "_view_module": "@jupyter-widgets/base",
            "overflow": null,
            "_model_module_version": "1.2.0",
            "_view_count": null,
            "flex_flow": null,
            "width": null,
            "min_width": null,
            "border": null,
            "align_items": null,
            "bottom": null,
            "_model_module": "@jupyter-widgets/base",
            "top": null,
            "grid_column": null,
            "overflow_y": null,
            "overflow_x": null,
            "grid_auto_flow": null,
            "grid_area": null,
            "grid_template_columns": null,
            "flex": null,
            "_model_name": "LayoutModel",
            "justify_items": null,
            "grid_row": null,
            "max_height": null,
            "align_content": null,
            "visibility": null,
            "align_self": null,
            "height": null,
            "min_height": null,
            "padding": null,
            "grid_auto_rows": null,
            "grid_gap": null,
            "max_width": null,
            "order": null,
            "_view_module_version": "1.2.0",
            "grid_template_areas": null,
            "object_position": null,
            "object_fit": null,
            "grid_auto_columns": null,
            "margin": null,
            "display": null,
            "left": null
          }
        },
        "5fae55a0e16f4c2ea4e96b65ca0b9580": {
          "model_module": "@jupyter-widgets/controls",
          "model_name": "ButtonStyleModel",
          "state": {
            "_view_name": "StyleView",
            "_model_name": "ButtonStyleModel",
            "_view_module": "@jupyter-widgets/base",
            "_model_module_version": "1.5.0",
            "_view_count": null,
            "button_color": null,
            "font_weight": "",
            "_view_module_version": "1.2.0",
            "_model_module": "@jupyter-widgets/controls"
          }
        },
        "27dde245aabe4201817b8ac75b79f554": {
          "model_module": "@jupyter-widgets/base",
          "model_name": "LayoutModel",
          "state": {
            "_view_name": "LayoutView",
            "grid_template_rows": null,
            "right": null,
            "justify_content": null,
            "_view_module": "@jupyter-widgets/base",
            "overflow": null,
            "_model_module_version": "1.2.0",
            "_view_count": null,
            "flex_flow": null,
            "width": null,
            "min_width": null,
            "border": null,
            "align_items": null,
            "bottom": null,
            "_model_module": "@jupyter-widgets/base",
            "top": null,
            "grid_column": null,
            "overflow_y": null,
            "overflow_x": null,
            "grid_auto_flow": null,
            "grid_area": null,
            "grid_template_columns": null,
            "flex": null,
            "_model_name": "LayoutModel",
            "justify_items": null,
            "grid_row": null,
            "max_height": null,
            "align_content": null,
            "visibility": null,
            "align_self": null,
            "height": null,
            "min_height": null,
            "padding": null,
            "grid_auto_rows": null,
            "grid_gap": null,
            "max_width": null,
            "order": null,
            "_view_module_version": "1.2.0",
            "grid_template_areas": null,
            "object_position": null,
            "object_fit": null,
            "grid_auto_columns": null,
            "margin": null,
            "display": null,
            "left": null
          }
        },
        "ee2c594a08844d3baa4e9529e1688042": {
          "model_module": "@jupyter-widgets/controls",
          "model_name": "DescriptionStyleModel",
          "state": {
            "_view_name": "StyleView",
            "_model_name": "DescriptionStyleModel",
            "description_width": "",
            "_view_module": "@jupyter-widgets/base",
            "_model_module_version": "1.5.0",
            "_view_count": null,
            "_view_module_version": "1.2.0",
            "_model_module": "@jupyter-widgets/controls"
          }
        },
        "96765ab68c1e46cfa7ee5c1149eecc04": {
          "model_module": "@jupyter-widgets/base",
          "model_name": "LayoutModel",
          "state": {
            "_view_name": "LayoutView",
            "grid_template_rows": null,
            "right": null,
            "justify_content": null,
            "_view_module": "@jupyter-widgets/base",
            "overflow": null,
            "_model_module_version": "1.2.0",
            "_view_count": null,
            "flex_flow": null,
            "width": null,
            "min_width": null,
            "border": null,
            "align_items": null,
            "bottom": null,
            "_model_module": "@jupyter-widgets/base",
            "top": null,
            "grid_column": null,
            "overflow_y": null,
            "overflow_x": null,
            "grid_auto_flow": null,
            "grid_area": null,
            "grid_template_columns": null,
            "flex": null,
            "_model_name": "LayoutModel",
            "justify_items": null,
            "grid_row": null,
            "max_height": null,
            "align_content": null,
            "visibility": null,
            "align_self": null,
            "height": null,
            "min_height": null,
            "padding": null,
            "grid_auto_rows": null,
            "grid_gap": null,
            "max_width": null,
            "order": null,
            "_view_module_version": "1.2.0",
            "grid_template_areas": null,
            "object_position": null,
            "object_fit": null,
            "grid_auto_columns": null,
            "margin": null,
            "display": null,
            "left": null
          }
        },
        "9447549c5aac4cae88c0a112396bd3cd": {
          "model_module": "@jupyter-widgets/base",
          "model_name": "LayoutModel",
          "state": {
            "_view_name": "LayoutView",
            "grid_template_rows": null,
            "right": null,
            "justify_content": null,
            "_view_module": "@jupyter-widgets/base",
            "overflow": null,
            "_model_module_version": "1.2.0",
            "_view_count": null,
            "flex_flow": null,
            "width": null,
            "min_width": null,
            "border": null,
            "align_items": null,
            "bottom": null,
            "_model_module": "@jupyter-widgets/base",
            "top": null,
            "grid_column": null,
            "overflow_y": null,
            "overflow_x": null,
            "grid_auto_flow": null,
            "grid_area": null,
            "grid_template_columns": null,
            "flex": null,
            "_model_name": "LayoutModel",
            "justify_items": null,
            "grid_row": null,
            "max_height": null,
            "align_content": null,
            "visibility": null,
            "align_self": null,
            "height": null,
            "min_height": null,
            "padding": null,
            "grid_auto_rows": null,
            "grid_gap": null,
            "max_width": null,
            "order": null,
            "_view_module_version": "1.2.0",
            "grid_template_areas": null,
            "object_position": null,
            "object_fit": null,
            "grid_auto_columns": null,
            "margin": null,
            "display": null,
            "left": null
          }
        }
      }
    }
  },
  "cells": [
    {
      "cell_type": "markdown",
      "metadata": {
        "id": "view-in-github",
        "colab_type": "text"
      },
      "source": [
        "<a href=\"https://colab.research.google.com/github/cmannnn/language_classifier/blob/main/language_classifier_prod.ipynb\" target=\"_parent\"><img src=\"https://colab.research.google.com/assets/colab-badge.svg\" alt=\"Open In Colab\"/></a>"
      ]
    },
    {
      "cell_type": "code",
      "metadata": {
        "id": "2vn5eT71vy9G"
      },
      "source": [
        "from fastai.vision.all import *\n",
        "from fastai.vision.widgets import *"
      ],
      "execution_count": 2,
      "outputs": []
    },
    {
      "cell_type": "code",
      "metadata": {
        "id": "ySVdj28goKx_"
      },
      "source": [
        "# loading model to use\n",
        "learn_inf = load_learner('language.pkl')"
      ],
      "execution_count": 3,
      "outputs": []
    },
    {
      "cell_type": "code",
      "metadata": {
        "id": "9roi9CFqr8aF"
      },
      "source": [
        "#Putting back btn_upload to a widget for next cell\n",
        "btn_upload = widgets.FileUpload()\n",
        "\n",
        "#hide_output\n",
        "out_pl = widgets.Output()\n",
        "\n",
        "#hide_output\n",
        "btn_run = widgets.Button(description = 'Classify')\n",
        "\n",
        "#hide_output\n",
        "lbl_pred = widgets.Label()"
      ],
      "execution_count": 4,
      "outputs": []
    },
    {
      "cell_type": "code",
      "metadata": {
        "id": "jESM5V_axRuP"
      },
      "source": [
        "def on_click_classify(change):\n",
        "    img = PILImage.create(btn_upload.data[-1])\n",
        "    out_pl.clear_output()\n",
        "    with out_pl: display(img.to_thumb(128,128))\n",
        "    pred, pred_idx, probs = learn_inf.predict(img)\n",
        "    lbl_pred.value = f'Prediction: {pred}; Probability: {probs[pred_idx]:.04f}'"
      ],
      "execution_count": 5,
      "outputs": []
    },
    {
      "cell_type": "code",
      "metadata": {
        "id": "VKYPVUd3xUWp"
      },
      "source": [
        "btn_run.on_click(on_click_classify)"
      ],
      "execution_count": 6,
      "outputs": []
    },
    {
      "cell_type": "code",
      "metadata": {
        "colab": {
          "base_uri": "https://localhost:8080/",
          "height": 202,
          "referenced_widgets": [
            "2f71c97468034ba4aa9640289cff54e0",
            "567459636d9f4996a26289cec7b26766",
            "316de4fd4aaa42b5a8dbdfd52c5355a6",
            "9298573f0cbf46c78d0050b35c1cc23e",
            "67b9beee5206414fab71d6b6b3c5536c",
            "40670b980558439494aa169bce2ca73e",
            "7517a51c761a454eb0152f28e0de1bb9",
            "8370916376c94d518ea95b08e8ff991a",
            "62afb2b40493451db9831f7cdfc4d1d7",
            "e87e82364c5b41898ee0dbef116bdc7f",
            "393164dbf3604bee9d4ca5935fb1875a",
            "5fae55a0e16f4c2ea4e96b65ca0b9580",
            "27dde245aabe4201817b8ac75b79f554",
            "ee2c594a08844d3baa4e9529e1688042",
            "96765ab68c1e46cfa7ee5c1149eecc04",
            "9447549c5aac4cae88c0a112396bd3cd"
          ]
        },
        "id": "FOB9oXiaxtKB",
        "outputId": "78166d30-ce8c-400d-b63e-f7953ebcc9e2"
      },
      "source": [
        "#hide_output\n",
        "VBox([widgets.Label('Select your picture!'), \n",
        "      btn_upload, btn_run, out_pl, lbl_pred])"
      ],
      "execution_count": 9,
      "outputs": [
        {
          "output_type": "display_data",
          "data": {
            "application/vnd.jupyter.widget-view+json": {
              "model_id": "2f71c97468034ba4aa9640289cff54e0",
              "version_minor": 0,
              "version_major": 2
            },
            "text/plain": [
              "VBox(children=(Label(value='Select your picture!'), FileUpload(value={'korean.jpg': {'metadata': {'lastModifie…"
            ]
          },
          "metadata": {
            "tags": []
          }
        },
        {
          "output_type": "display_data",
          "data": {
            "text/html": [
              ""
            ],
            "text/plain": [
              "<IPython.core.display.HTML object>"
            ]
          },
          "metadata": {
            "tags": []
          }
        }
      ]
    }
  ]
}