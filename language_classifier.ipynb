{
  "nbformat": 4,
  "nbformat_minor": 0,
  "metadata": {
    "colab": {
      "name": "language_classifier.ipynb",
      "provenance": [],
      "authorship_tag": "ABX9TyNdFxskMdNGQUx9VotQB4iz",
      "include_colab_link": true
    },
    "kernelspec": {
      "name": "python3",
      "display_name": "Python 3"
    },
    "language_info": {
      "name": "python"
    },
    "accelerator": "GPU"
  },
  "cells": [
    {
      "cell_type": "markdown",
      "metadata": {
        "id": "view-in-github",
        "colab_type": "text"
      },
      "source": [
        "<a href=\"https://colab.research.google.com/github/cmannnn/language_classifier/blob/main/language_classifier.ipynb\" target=\"_parent\"><img src=\"https://colab.research.google.com/assets/colab-badge.svg\" alt=\"Open In Colab\"/></a>"
      ]
    },
    {
      "cell_type": "markdown",
      "metadata": {
        "id": "H7u7OF06SUKW"
      },
      "source": [
        "#Language Classifier"
      ]
    },
    {
      "cell_type": "markdown",
      "metadata": {
        "id": "o2_qi_N3SZ2g"
      },
      "source": [
        "##Imports"
      ]
    },
    {
      "cell_type": "code",
      "metadata": {
        "colab": {
          "base_uri": "https://localhost:8080/"
        },
        "id": "yXn6ookhQRB-",
        "outputId": "90e20df7-9c00-4881-e31f-d364fb73c5f5"
      },
      "source": [
        "#hide\n",
        "!pip install -Uqq fastbook\n",
        "import fastbook\n",
        "fastbook.setup_book()"
      ],
      "execution_count": 1,
      "outputs": [
        {
          "output_type": "stream",
          "text": [
            "\u001b[K     |████████████████████████████████| 727kB 7.6MB/s \n",
            "\u001b[K     |████████████████████████████████| 51kB 7.7MB/s \n",
            "\u001b[K     |████████████████████████████████| 1.2MB 17.2MB/s \n",
            "\u001b[K     |████████████████████████████████| 194kB 38.4MB/s \n",
            "\u001b[K     |████████████████████████████████| 61kB 9.1MB/s \n",
            "\u001b[K     |████████████████████████████████| 61kB 6.1MB/s \n",
            "\u001b[?25hMounted at /content/gdrive\n"
          ],
          "name": "stdout"
        }
      ]
    },
    {
      "cell_type": "code",
      "metadata": {
        "id": "oEjavhNuSAXf"
      },
      "source": [
        "#hide\n",
        "from fastbook import *\n",
        "from fastai.vision.widgets import *"
      ],
      "execution_count": 3,
      "outputs": []
    },
    {
      "cell_type": "markdown",
      "metadata": {
        "id": "Z0MU16U3ScPQ"
      },
      "source": [
        "##Bing image search"
      ]
    },
    {
      "cell_type": "code",
      "metadata": {
        "id": "qhXzOLkoSTMK"
      },
      "source": [
        "# getting Azure Bing search key and setting it to key\n",
        "key = os.environ.get('AZURE_SEARCH_KEY', 'a80b54eb571b45658bbad8530262ff7f')"
      ],
      "execution_count": 4,
      "outputs": []
    },
    {
      "cell_type": "code",
      "metadata": {
        "colab": {
          "base_uri": "https://localhost:8080/"
        },
        "id": "KHEJXsBDSTSo",
        "outputId": "7a13a96a-568d-4c96-c7e7-cce5ff52257d"
      },
      "source": [
        "# testing search_images_bing method to see if azure key works\n",
        "search_images_bing"
      ],
      "execution_count": 5,
      "outputs": [
        {
          "output_type": "execute_result",
          "data": {
            "text/plain": [
              "<function fastbook.search_images_bing>"
            ]
          },
          "metadata": {
            "tags": []
          },
          "execution_count": 5
        }
      ]
    },
    {
      "cell_type": "code",
      "metadata": {
        "colab": {
          "base_uri": "https://localhost:8080/"
        },
        "id": "Bj1jK4KjTByT",
        "outputId": "920eee25-bd6a-44f2-d685-85d48dbaae69"
      },
      "source": [
        "# using key to search 'grizzly bear' into bing image search\n",
        "results = search_images_bing(key, 'chinese language')\n",
        "\n",
        "# grabbing the url's of the results\n",
        "ims = results.attrgot('content_url')\n",
        "\n",
        "# checking the length of the URL's\n",
        "print(f'The number of URL\\'s downloaded is: {len(ims)}')"
      ],
      "execution_count": 6,
      "outputs": [
        {
          "output_type": "stream",
          "text": [
            "The number of URL's downloaded is: 150\n"
          ],
          "name": "stdout"
        }
      ]
    },
    {
      "cell_type": "code",
      "metadata": {
        "colab": {
          "base_uri": "https://localhost:8080/",
          "height": 17
        },
        "id": "CFt7C-_tTB71",
        "outputId": "1e33a604-2ac2-4b8f-80e6-a3e2cb4258db"
      },
      "source": [
        "# one random chinese character URL\n",
        "ims = ['https://thumbs.dreamstime.com/b/chinese-city-tianjin-characters-vector-illustration-151968254.jpg']\n",
        "\n",
        "# downloading character URL\n",
        "dest = 'images'\n",
        "download_url(ims[0], dest)"
      ],
      "execution_count": 13,
      "outputs": [
        {
          "output_type": "display_data",
          "data": {
            "text/html": [
              ""
            ],
            "text/plain": [
              "<IPython.core.display.HTML object>"
            ]
          },
          "metadata": {
            "tags": []
          }
        }
      ]
    },
    {
      "cell_type": "code",
      "metadata": {
        "colab": {
          "base_uri": "https://localhost:8080/"
        },
        "id": "s4RA_s3UU8Yd",
        "outputId": "d769c5f4-df08-4843-9e56-a213e27ee816"
      },
      "source": [
        "# mounting Google Drive \n",
        "from google.colab import drive\n",
        "drive.mount('/content/drive')"
      ],
      "execution_count": 14,
      "outputs": [
        {
          "output_type": "stream",
          "text": [
            "Drive already mounted at /content/drive; to attempt to forcibly remount, call drive.mount(\"/content/drive\", force_remount=True).\n"
          ],
          "name": "stdout"
        }
      ]
    },
    {
      "cell_type": "code",
      "metadata": {
        "colab": {
          "base_uri": "https://localhost:8080/",
          "height": 113
        },
        "id": "C5__BTn3U_02",
        "outputId": "0038a164-65b8-4f0b-bf25-1828ae125768"
      },
      "source": [
        "# opening downloaded picture as 128 x 128 rectangle \n",
        "im = Image.open(dest)\n",
        "im.to_thumb(128,128)"
      ],
      "execution_count": 15,
      "outputs": [
        {
          "output_type": "execute_result",
          "data": {
            "image/png": "[encoded data removed]",
            "text/plain": [
              "<PIL.Image.Image image mode=L size=128x96 at 0x7F1AF5867F10>"
            ]
          },
          "metadata": {
            "tags": []
          },
          "execution_count": 15
        }
      ]
    },
    {
      "cell_type": "code",
      "metadata": {
        "id": "XcKI9zYRWXtb"
      },
      "source": [
        "# creating folder string for each language\n",
        "language_types = 'korean','arabic','chinese'\n",
        "\n",
        "# creating a new main folder in our path called 'languages'\n",
        "path = Path('language')"
      ],
      "execution_count": null,
      "outputs": []
    }
  ]
}