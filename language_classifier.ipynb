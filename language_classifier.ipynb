{
  "nbformat": 4,
  "nbformat_minor": 0,
  "metadata": {
    "colab": {
      "name": "language_classifier.ipynb",
      "provenance": [],
      "authorship_tag": "ABX9TyMAWl3UpsbM5D+LGlwK60RS",
      "include_colab_link": true
    },
    "kernelspec": {
      "name": "python3",
      "display_name": "Python 3"
    },
    "language_info": {
      "name": "python"
    },
    "accelerator": "GPU"
  },
  "cells": [
    {
      "cell_type": "markdown",
      "metadata": {
        "id": "view-in-github",
        "colab_type": "text"
      },
      "source": [
        "<a href=\"https://colab.research.google.com/github/cmannnn/language_classifier/blob/main/language_classifier.ipynb\" target=\"_parent\"><img src=\"https://colab.research.google.com/assets/colab-badge.svg\" alt=\"Open In Colab\"/></a>"
      ]
    },
    {
      "cell_type": "markdown",
      "metadata": {
        "id": "H7u7OF06SUKW"
      },
      "source": [
        "#Language Classifier"
      ]
    },
    {
      "cell_type": "markdown",
      "metadata": {
        "id": "o2_qi_N3SZ2g"
      },
      "source": [
        "##Imports"
      ]
    },
    {
      "cell_type": "code",
      "metadata": {
        "colab": {
          "base_uri": "https://localhost:8080/"
        },
        "id": "yXn6ookhQRB-",
        "outputId": "90e20df7-9c00-4881-e31f-d364fb73c5f5"
      },
      "source": [
        "#hide\n",
        "!pip install -Uqq fastbook\n",
        "import fastbook\n",
        "fastbook.setup_book()"
      ],
      "execution_count": 1,
      "outputs": [
        {
          "output_type": "stream",
          "text": [
            "\u001b[K     |████████████████████████████████| 727kB 7.6MB/s \n",
            "\u001b[K     |████████████████████████████████| 51kB 7.7MB/s \n",
            "\u001b[K     |████████████████████████████████| 1.2MB 17.2MB/s \n",
            "\u001b[K     |████████████████████████████████| 194kB 38.4MB/s \n",
            "\u001b[K     |████████████████████████████████| 61kB 9.1MB/s \n",
            "\u001b[K     |████████████████████████████████| 61kB 6.1MB/s \n",
            "\u001b[?25hMounted at /content/gdrive\n"
          ],
          "name": "stdout"
        }
      ]
    },
    {
      "cell_type": "code",
      "metadata": {
        "id": "oEjavhNuSAXf"
      },
      "source": [
        "#hide\n",
        "from fastbook import *\n",
        "from fastai.vision.widgets import *"
      ],
      "execution_count": 3,
      "outputs": []
    },
    {
      "cell_type": "markdown",
      "metadata": {
        "id": "Z0MU16U3ScPQ"
      },
      "source": [
        "##Bing image search"
      ]
    },
    {
      "cell_type": "code",
      "metadata": {
        "id": "qhXzOLkoSTMK"
      },
      "source": [
        "# getting Azure Bing search key and setting it to key\n",
        "key = os.environ.get('AZURE_SEARCH_KEY', 'a80b54eb571b45658bbad8530262ff7f')"
      ],
      "execution_count": 4,
      "outputs": []
    },
    {
      "cell_type": "code",
      "metadata": {
        "colab": {
          "base_uri": "https://localhost:8080/"
        },
        "id": "KHEJXsBDSTSo",
        "outputId": "7a13a96a-568d-4c96-c7e7-cce5ff52257d"
      },
      "source": [
        "# testing search_images_bing method to see if azure key works\n",
        "search_images_bing"
      ],
      "execution_count": 5,
      "outputs": [
        {
          "output_type": "execute_result",
          "data": {
            "text/plain": [
              "<function fastbook.search_images_bing>"
            ]
          },
          "metadata": {
            "tags": []
          },
          "execution_count": 5
        }
      ]
    },
    {
      "cell_type": "code",
      "metadata": {
        "colab": {
          "base_uri": "https://localhost:8080/"
        },
        "id": "Bj1jK4KjTByT",
        "outputId": "920eee25-bd6a-44f2-d685-85d48dbaae69"
      },
      "source": [
        "# using key to search 'grizzly bear' into bing image search\n",
        "results = search_images_bing(key, 'chinese language')\n",
        "\n",
        "# grabbing the url's of the results\n",
        "ims = results.attrgot('content_url')\n",
        "\n",
        "# checking the length of the URL's\n",
        "print(f'The number of URL\\'s downloaded is: {len(ims)}')"
      ],
      "execution_count": 6,
      "outputs": [
        {
          "output_type": "stream",
          "text": [
            "The number of URL's downloaded is: 150\n"
          ],
          "name": "stdout"
        }
      ]
    },
    {
      "cell_type": "code",
      "metadata": {
        "colab": {
          "base_uri": "https://localhost:8080/",
          "height": 17
        },
        "id": "CFt7C-_tTB71",
        "outputId": "8633f3f6-df5d-4098-f0e1-4bc245049bd3"
      },
      "source": [
        "# one random grizzly bear URL\n",
        "ims = ['https://th.bing.com/th/id/R.ed7c321c11177db69c63f89914391b5f?rik=F6GwLgnvSW5vsw&pid=ImgRaw']\n",
        "\n",
        "# downloading the random grizzly bear URL\n",
        "dest = 'images'\n",
        "download_url(ims[0], dest)"
      ],
      "execution_count": 7,
      "outputs": [
        {
          "output_type": "display_data",
          "data": {
            "text/html": [
              ""
            ],
            "text/plain": [
              "<IPython.core.display.HTML object>"
            ]
          },
          "metadata": {
            "tags": []
          }
        }
      ]
    },
    {
      "cell_type": "code",
      "metadata": {
        "colab": {
          "base_uri": "https://localhost:8080/"
        },
        "id": "s4RA_s3UU8Yd",
        "outputId": "5b3234dd-27fc-4e52-9b50-c9185ae99a65"
      },
      "source": [
        "# mounting Google Drive \n",
        "from google.colab import drive\n",
        "drive.mount('/content/drive')"
      ],
      "execution_count": 8,
      "outputs": [
        {
          "output_type": "stream",
          "text": [
            "Mounted at /content/drive\n"
          ],
          "name": "stdout"
        }
      ]
    },
    {
      "cell_type": "code",
      "metadata": {
        "id": "C5__BTn3U_02",
        "outputId": "2a689cd4-a651-4225-8009-9e6ee1a9e62a",
        "colab": {
          "base_uri": "https://localhost:8080/",
          "height": 145
        }
      },
      "source": [
        "# opening downloaded random grizzly bear as 128 x 128 rectangle \n",
        "im = Image.open(dest)\n",
        "im.to_thumb(128,128)"
      ],
      "execution_count": 9,
      "outputs": [
        {
          "output_type": "execute_result",
          "data": {
            "image/png": "[encoded data removed]",
            "text/plain": [
              "<PIL.Image.Image image mode=RGBA size=79x128 at 0x7F1AF58A5E90>"
            ]
          },
          "metadata": {
            "tags": []
          },
          "execution_count": 9
        }
      ]
    }
  ]
}